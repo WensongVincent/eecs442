{
 "cells": [
  {
   "cell_type": "markdown",
   "metadata": {
    "id": "t84tK2fjAGux"
   },
   "source": [
    "# EECS 442 Homework 4: Fashion-MNIST Classification\n",
    "In this part, you will implement and train Convolutional Neural Networks (ConvNets) in PyTorch to classify images. Unlike HW4 Secion 1, backpropagation is automatically inferred by PyTorch, so you only need to write code for the forward pass.\n",
    "\n",
    "Before we start, please put your name and UMID in following format\n",
    "\n",
    ": Firstname LASTNAME, #00000000   //   e.g.) David FOUHEY, #12345678"
   ]
  },
  {
   "cell_type": "markdown",
   "metadata": {
    "id": "3Zc0gjHQAGPs"
   },
   "source": [
    "**Your Answer:**   \n",
    "Wensong HU #24908654"
   ]
  },
  {
   "cell_type": "markdown",
   "metadata": {
    "id": "b8zMyTMC0VDm"
   },
   "source": [
    "## Setup"
   ]
  },
  {
   "cell_type": "code",
   "execution_count": 2,
   "metadata": {},
   "outputs": [],
   "source": [
    "# Run the command in the terminal if it failed on local Jupyter Notebook, remove \"!\" before each line\n",
    "# !pip install torchsummary"
   ]
  },
  {
   "cell_type": "code",
   "execution_count": 3,
   "metadata": {
    "id": "mc2dzDlI_-6x"
   },
   "outputs": [],
   "source": [
    "import numpy as np\n",
    "import matplotlib.pyplot as plt\n",
    "from tqdm import tqdm # Displays a progress bar\n",
    "\n",
    "import torch\n",
    "from torch import nn\n",
    "from torch import optim\n",
    "import torch.nn.functional as F\n",
    "from torchsummary import summary\n",
    "from torchvision import datasets, transforms\n",
    "from torch.utils.data import Dataset, Subset, DataLoader, random_split"
   ]
  },
  {
   "cell_type": "code",
   "execution_count": 4,
   "metadata": {
    "id": "WvC_h1RpCuXN"
   },
   "outputs": [
    {
     "name": "stdout",
     "output_type": "stream",
     "text": [
      "Using the GPU. You are good to go!\n"
     ]
    }
   ],
   "source": [
    "if torch.cuda.is_available():\n",
    "    print(\"Using the GPU. You are good to go!\")\n",
    "    device = 'cuda'\n",
    "else:\n",
    "    print(\"Using the CPU. Overall speed may be slowed down\")\n",
    "    device = 'cpu'"
   ]
  },
  {
   "cell_type": "markdown",
   "metadata": {
    "id": "ZMKs1--aAe9c"
   },
   "source": [
    "## Loading Dataset\n",
    "The dataset we use is Fashion-MNIST dataset, which is available at https://github.com/zalandoresearch/fashion-mnist and in torchvision.datasets. Fashion-MNIST has 10 classes, 60000 training+validation images (we have splitted it to have 50000 training images and 10000 validation images, but you can change the numbers), and 10000 test images."
   ]
  },
  {
   "cell_type": "code",
   "execution_count": 5,
   "metadata": {
    "id": "Tbwq9R1cAbnc"
   },
   "outputs": [
    {
     "name": "stdout",
     "output_type": "stream",
     "text": [
      "Loading datasets...\n",
      "Done!\n"
     ]
    }
   ],
   "source": [
    "# Load the dataset and train, val, test splits\n",
    "print(\"Loading datasets...\")\n",
    "# Transform from [0,255] uint8 to [0,1] float,\n",
    "# then normalize to zero mean and unit variance\n",
    "FASHION_transform = transforms.Compose([\n",
    "                        transforms.ToTensor(),\n",
    "                        transforms.Normalize([0.2859], [0.3530]) \n",
    "                    ])\n",
    "FASHION_trainval = datasets.FashionMNIST('.', download=True, train=True,\n",
    "                                         transform=FASHION_transform)\n",
    "FASHION_train = Subset(FASHION_trainval, range(50000))\n",
    "FASHION_val = Subset(FASHION_trainval, range(50000, 60000))\n",
    "FASHION_test = datasets.FashionMNIST('.', download=True, train=False,\n",
    "                                     transform=FASHION_transform)\n",
    "print(\"Done!\")"
   ]
  },
  {
   "cell_type": "markdown",
   "metadata": {
    "id": "Gqji7Q3XCIcY"
   },
   "source": [
    "Now, we will create the dataloder for train, val and test dataset. You are free to experiment with different batch sizes."
   ]
  },
  {
   "cell_type": "code",
   "execution_count": 6,
   "metadata": {
    "id": "Y0KyRJWGCCgb"
   },
   "outputs": [],
   "source": [
    "# Create dataloaders\n",
    "##############################################################################\n",
    "# TODO: Experiment with different batch sizes                                #\n",
    "##############################################################################\n",
    "batch_size = 64\n",
    "##############################################################################\n",
    "#                             END OF YOUR CODE                               #\n",
    "##############################################################################\n",
    "trainloader = DataLoader(FASHION_train, batch_size=batch_size, shuffle=True)\n",
    "valloader = DataLoader(FASHION_val, batch_size=batch_size, shuffle=True)\n",
    "testloader = DataLoader(FASHION_test, batch_size=batch_size, shuffle=True)"
   ]
  },
  {
   "cell_type": "markdown",
   "metadata": {
    "id": "f6rcDO7VCQ_q"
   },
   "source": [
    "## Model\n",
    "Initialize your model and experiment with with different optimizers, parameters (such as learning rate) and number of epochs."
   ]
  },
  {
   "cell_type": "code",
   "execution_count": 7,
   "metadata": {
    "id": "Hz0BSR9xCNiX"
   },
   "outputs": [
    {
     "name": "stdout",
     "output_type": "stream",
     "text": [
      "Your network:\n",
      "----------------------------------------------------------------\n",
      "        Layer (type)               Output Shape         Param #\n",
      "================================================================\n",
      "            Conv2d-1           [-1, 64, 28, 28]           3,200\n",
      "       BatchNorm2d-2           [-1, 64, 28, 28]             128\n",
      "         MaxPool2d-3           [-1, 64, 14, 14]               0\n",
      "            Conv2d-4           [-1, 64, 14, 14]          36,928\n",
      "       BatchNorm2d-5           [-1, 64, 14, 14]             128\n",
      "              ReLU-6           [-1, 64, 14, 14]               0\n",
      "            Conv2d-7           [-1, 64, 14, 14]          36,928\n",
      "       BatchNorm2d-8           [-1, 64, 14, 14]             128\n",
      "              ReLU-9           [-1, 64, 14, 14]               0\n",
      "           Conv2d-10           [-1, 64, 14, 14]          36,928\n",
      "      BatchNorm2d-11           [-1, 64, 14, 14]             128\n",
      "             ReLU-12           [-1, 64, 14, 14]               0\n",
      "           Conv2d-13           [-1, 64, 14, 14]          36,928\n",
      "      BatchNorm2d-14           [-1, 64, 14, 14]             128\n",
      "             ReLU-15           [-1, 64, 14, 14]               0\n",
      "           Conv2d-16            [-1, 128, 7, 7]           8,320\n",
      "      BatchNorm2d-17            [-1, 128, 7, 7]             256\n",
      "           Conv2d-18            [-1, 128, 7, 7]          73,856\n",
      "      BatchNorm2d-19            [-1, 128, 7, 7]             256\n",
      "             ReLU-20            [-1, 128, 7, 7]               0\n",
      "           Conv2d-21            [-1, 128, 7, 7]         147,584\n",
      "      BatchNorm2d-22            [-1, 128, 7, 7]             256\n",
      "             ReLU-23            [-1, 128, 7, 7]               0\n",
      "           Conv2d-24            [-1, 128, 7, 7]         147,584\n",
      "      BatchNorm2d-25            [-1, 128, 7, 7]             256\n",
      "             ReLU-26            [-1, 128, 7, 7]               0\n",
      "           Conv2d-27            [-1, 128, 7, 7]         147,584\n",
      "      BatchNorm2d-28            [-1, 128, 7, 7]             256\n",
      "             ReLU-29            [-1, 128, 7, 7]               0\n",
      "        AvgPool2d-30            [-1, 128, 1, 1]               0\n",
      "           Linear-31                  [-1, 512]          66,048\n",
      "             ReLU-32                  [-1, 512]               0\n",
      "           Linear-33                   [-1, 10]           5,130\n",
      "================================================================\n",
      "Total params: 748,938\n",
      "Trainable params: 748,938\n",
      "Non-trainable params: 0\n",
      "----------------------------------------------------------------\n",
      "Input size (MB): 0.00\n",
      "Forward/backward pass size (MB): 2.69\n",
      "Params size (MB): 2.86\n",
      "Estimated Total Size (MB): 5.55\n",
      "----------------------------------------------------------------\n",
      "None\n"
     ]
    }
   ],
   "source": [
    "class Network(nn.Module):\n",
    "    def __init__(self):\n",
    "        super().__init__()\n",
    "        ##############################################################################\n",
    "        # TODO: Design your own network, define layers here.                          #\n",
    "        # Here We provide a sample of two-layer fc network from HW4 Part3.           #\n",
    "        # Your solution, however, should contain convolutional layers.               #\n",
    "        # Refer to PyTorch documentations of torch.nn to pick your layers.           #\n",
    "        # (https://pytorch.org/docs/stable/nn.html)                                  #\n",
    "        # Some common choices: Linear, Conv2d, ReLU, MaxPool2d, AvgPool2d, Dropout   #\n",
    "        # If you have many layers, use nn.Sequential() to simplify your code         #\n",
    "        ##############################################################################\n",
    "        # stem: 3*28*28 -> 64 * 14* 14\n",
    "        self.stem = torch.nn.Sequential(torch.nn.Conv2d(1, 64, kernel_size=7, stride=1, padding=3),\n",
    "                                        torch.nn.BatchNorm2d(64),\n",
    "                                        torch.nn.MaxPool2d(kernel_size=3, stride=2, padding=1))\n",
    "        # stage1: 64 * 14 * 14 -> 64 * 14 * 14\n",
    "        self.resblock1 = torch.nn.Sequential(torch.nn.Conv2d(64, 64, kernel_size=3, stride=1, padding=1),\n",
    "                                             torch.nn.BatchNorm2d(64),\n",
    "                                             torch.nn.ReLU(inplace=True),\n",
    "                                             torch.nn.Conv2d(64, 64, kernel_size=3, stride=1, padding=1),\n",
    "                                             torch.nn.BatchNorm2d(64))\n",
    "        self.resblock2 = torch.nn.Sequential(torch.nn.Conv2d(64, 64, kernel_size=3, stride=1, padding=1),\n",
    "                                             torch.nn.BatchNorm2d(64),\n",
    "                                             torch.nn.ReLU(inplace=True),\n",
    "                                             torch.nn.Conv2d(64, 64, kernel_size=3, stride=1, padding=1),\n",
    "                                             torch.nn.BatchNorm2d(64))\n",
    "        # stage2: 64 * 14 * 14 -> 128 * 7 * 7\n",
    "        self.resblock3 = torch.nn.Sequential(torch.nn.Conv2d(64, 128, kernel_size=3, stride=2, padding=1),\n",
    "                                             torch.nn.BatchNorm2d(128),\n",
    "                                             torch.nn.ReLU(inplace=True),\n",
    "                                             torch.nn.Conv2d(128, 128, kernel_size=3, stride=1, padding=1),\n",
    "                                             torch.nn.BatchNorm2d(128))\n",
    "        self.resblock4 = torch.nn.Sequential(torch.nn.Conv2d(128, 128, kernel_size=3, stride=1, padding=1),\n",
    "                                             torch.nn.BatchNorm2d(128),\n",
    "                                             torch.nn.ReLU(inplace=True),\n",
    "                                             torch.nn.Conv2d(128, 128, kernel_size=3, stride=1, padding=1),\n",
    "                                             torch.nn.BatchNorm2d(128))\n",
    "        # fc layer: \n",
    "        self.pool = torch.nn.AvgPool2d(kernel_size=7)\n",
    "        self.fc = torch.nn.Sequential(torch.nn.Linear(128, 512),\n",
    "                                      torch.nn.ReLU(inplace=True),\n",
    "                                      torch.nn.Linear(512, 10))\n",
    "        \n",
    "        # downsample\n",
    "        self.projection = torch.nn.Sequential(torch.nn.Conv2d(64, 128, kernel_size=1, stride=2),\n",
    "                                              torch.nn.BatchNorm2d(128))\n",
    "        #ReLU\n",
    "        self.relu = torch.nn.ReLU(inplace=True)\n",
    "        ##############################################################################\n",
    "        #                             END OF YOUR CODE                               #\n",
    "        ##############################################################################\n",
    "  \n",
    "    def forward(self, x):\n",
    "        ##############################################################################\n",
    "        # TODO: Design your own network, implement forward pass here                 # \n",
    "        ##############################################################################\n",
    "        # print(x.shape)\n",
    "        N, C, H, W = x.shape\n",
    "        \n",
    "        # stem\n",
    "        x = self.stem(x)\n",
    "        # print(x.shape)\n",
    "        \n",
    "        # stage1\n",
    "        x_res = torch.clone(x)\n",
    "        x = self.resblock1(x)\n",
    "        x += x_res\n",
    "        x = self.relu(x)\n",
    "        # print(x.shape)\n",
    "        \n",
    "        x_res = torch.clone(x)\n",
    "        x = self.resblock2(x)\n",
    "        x += x_res\n",
    "        x = self.relu(x)\n",
    "        # print(x.shape)\n",
    "        \n",
    "        # stage2\n",
    "        x_res = self.projection(x)\n",
    "        x = self.resblock3(x)\n",
    "        x += x_res\n",
    "        x = self.relu(x)\n",
    "        # print(x.shape)\n",
    "        \n",
    "        x_res = torch.clone(x)\n",
    "        x = self.resblock4(x)\n",
    "        x += x_res\n",
    "        x = self.relu(x)\n",
    "        # print(x.shape)\n",
    "        \n",
    "        # fc layer\n",
    "        x = self.pool(x)\n",
    "        # print(x.shape)\n",
    "        x = torch.flatten(x, start_dim=1)\n",
    "        # print(x.shape)\n",
    "        x = self.fc(x)\n",
    "        \n",
    "        return x\n",
    "        ##############################################################################\n",
    "        #                             END OF YOUR CODE                               #\n",
    "        ##############################################################################\n",
    "\n",
    "model = Network().to(device)\n",
    "criterion = nn.CrossEntropyLoss() # Specify the loss layer\n",
    "print('Your network:')\n",
    "print(summary(model, (1,28,28), device=device)) # visualize your model\n",
    "\n",
    "##############################################################################\n",
    "# TODO: Modify the lines below to experiment with different optimizers,      #\n",
    "# parameters (such as learning rate) and number of epochs.                   #\n",
    "##############################################################################\n",
    "# Set up optimization hyperparameters\n",
    "learning_rate, weight_decay, num_epoch = 1e-4, 0.0, 5\n",
    "optimizer = torch.optim.Adam(model.parameters(), lr=learning_rate, weight_decay=weight_decay)\n",
    "##############################################################################\n",
    "#                             END OF YOUR CODE                               #\n",
    "##############################################################################"
   ]
  },
  {
   "cell_type": "markdown",
   "metadata": {
    "id": "xq9fTZiuDJ3I"
   },
   "source": [
    "Run the cell below to start your training, we expect you to achieve over **85%** on the test set. A valid solution that meet the requirement take no more than **10 minutes** on normal PC Intel core CPU setting. If your solution takes too long to train, try to simplify your model or reduce the number of epochs."
   ]
  },
  {
   "cell_type": "code",
   "execution_count": 8,
   "metadata": {
    "id": "hOFaEvBDDHzQ",
    "scrolled": true
   },
   "outputs": [
    {
     "name": "stdout",
     "output_type": "stream",
     "text": [
      "Start training...\n",
      "-----------------Epoch = 1-----------------\n"
     ]
    },
    {
     "name": "stderr",
     "output_type": "stream",
     "text": [
      "  0%|          | 0/782 [00:00<?, ?it/s]100%|██████████| 782/782 [00:13<00:00, 59.46it/s]\n"
     ]
    },
    {
     "name": "stdout",
     "output_type": "stream",
     "text": [
      "\n",
      " Epoch 1 loss:0.5725756988424779\n"
     ]
    },
    {
     "name": "stderr",
     "output_type": "stream",
     "text": [
      "100%|██████████| 782/782 [00:07<00:00, 99.74it/s] \n"
     ]
    },
    {
     "name": "stdout",
     "output_type": "stream",
     "text": [
      "\n",
      " Evaluation accuracy: 0.83086\n",
      "\n",
      " Evaluate on validation set...\n"
     ]
    },
    {
     "name": "stderr",
     "output_type": "stream",
     "text": [
      "100%|██████████| 157/157 [00:01<00:00, 96.58it/s] \n"
     ]
    },
    {
     "name": "stdout",
     "output_type": "stream",
     "text": [
      "\n",
      " Evaluation accuracy: 0.8212\n",
      "-----------------Epoch = 2-----------------\n"
     ]
    },
    {
     "name": "stderr",
     "output_type": "stream",
     "text": [
      "100%|██████████| 782/782 [00:12<00:00, 61.51it/s]\n"
     ]
    },
    {
     "name": "stdout",
     "output_type": "stream",
     "text": [
      "\n",
      " Epoch 2 loss:0.38106703539105025\n"
     ]
    },
    {
     "name": "stderr",
     "output_type": "stream",
     "text": [
      "100%|██████████| 782/782 [00:07<00:00, 101.50it/s]\n"
     ]
    },
    {
     "name": "stdout",
     "output_type": "stream",
     "text": [
      "\n",
      " Evaluation accuracy: 0.89394\n",
      "\n",
      " Evaluate on validation set...\n"
     ]
    },
    {
     "name": "stderr",
     "output_type": "stream",
     "text": [
      "100%|██████████| 157/157 [00:01<00:00, 98.84it/s]\n"
     ]
    },
    {
     "name": "stdout",
     "output_type": "stream",
     "text": [
      "\n",
      " Evaluation accuracy: 0.8852\n",
      "-----------------Epoch = 3-----------------\n"
     ]
    },
    {
     "name": "stderr",
     "output_type": "stream",
     "text": [
      "100%|██████████| 782/782 [00:12<00:00, 61.09it/s]\n"
     ]
    },
    {
     "name": "stdout",
     "output_type": "stream",
     "text": [
      "\n",
      " Epoch 3 loss:0.31754977807707496\n"
     ]
    },
    {
     "name": "stderr",
     "output_type": "stream",
     "text": [
      "100%|██████████| 782/782 [00:07<00:00, 102.77it/s]\n"
     ]
    },
    {
     "name": "stdout",
     "output_type": "stream",
     "text": [
      "\n",
      " Evaluation accuracy: 0.89466\n",
      "\n",
      " Evaluate on validation set...\n"
     ]
    },
    {
     "name": "stderr",
     "output_type": "stream",
     "text": [
      "100%|██████████| 157/157 [00:01<00:00, 97.87it/s]\n"
     ]
    },
    {
     "name": "stdout",
     "output_type": "stream",
     "text": [
      "\n",
      " Evaluation accuracy: 0.8833\n",
      "-----------------Epoch = 4-----------------\n"
     ]
    },
    {
     "name": "stderr",
     "output_type": "stream",
     "text": [
      "100%|██████████| 782/782 [00:12<00:00, 61.65it/s]\n"
     ]
    },
    {
     "name": "stdout",
     "output_type": "stream",
     "text": [
      "\n",
      " Epoch 4 loss:0.2882935323983507\n"
     ]
    },
    {
     "name": "stderr",
     "output_type": "stream",
     "text": [
      "100%|██████████| 782/782 [00:07<00:00, 101.61it/s]\n"
     ]
    },
    {
     "name": "stdout",
     "output_type": "stream",
     "text": [
      "\n",
      " Evaluation accuracy: 0.89676\n",
      "\n",
      " Evaluate on validation set...\n"
     ]
    },
    {
     "name": "stderr",
     "output_type": "stream",
     "text": [
      "100%|██████████| 157/157 [00:01<00:00, 101.90it/s]\n"
     ]
    },
    {
     "name": "stdout",
     "output_type": "stream",
     "text": [
      "\n",
      " Evaluation accuracy: 0.8843\n",
      "-----------------Epoch = 5-----------------\n"
     ]
    },
    {
     "name": "stderr",
     "output_type": "stream",
     "text": [
      "100%|██████████| 782/782 [00:12<00:00, 61.54it/s]\n"
     ]
    },
    {
     "name": "stdout",
     "output_type": "stream",
     "text": [
      "\n",
      " Epoch 5 loss:0.2685324148086788\n"
     ]
    },
    {
     "name": "stderr",
     "output_type": "stream",
     "text": [
      "100%|██████████| 782/782 [00:07<00:00, 99.73it/s] \n"
     ]
    },
    {
     "name": "stdout",
     "output_type": "stream",
     "text": [
      "\n",
      " Evaluation accuracy: 0.9109\n",
      "\n",
      " Evaluate on validation set...\n"
     ]
    },
    {
     "name": "stderr",
     "output_type": "stream",
     "text": [
      "100%|██████████| 157/157 [00:01<00:00, 101.33it/s]\n"
     ]
    },
    {
     "name": "stdout",
     "output_type": "stream",
     "text": [
      "\n",
      " Evaluation accuracy: 0.8966\n",
      "Done!\n",
      "\n",
      " Evaluate on test set\n"
     ]
    },
    {
     "name": "stderr",
     "output_type": "stream",
     "text": [
      "100%|██████████| 157/157 [00:01<00:00, 103.19it/s]"
     ]
    },
    {
     "name": "stdout",
     "output_type": "stream",
     "text": [
      "\n",
      " Evaluation accuracy: 0.8917\n",
      "CPU times: user 1min 54s, sys: 512 ms, total: 1min 54s\n",
      "Wall time: 1min 52s\n"
     ]
    },
    {
     "name": "stderr",
     "output_type": "stream",
     "text": [
      "\n"
     ]
    },
    {
     "data": {
      "text/plain": [
       "0.8917"
      ]
     },
     "execution_count": 8,
     "metadata": {},
     "output_type": "execute_result"
    }
   ],
   "source": [
    "%%time\n",
    "def train(model, trainloader, valloader, num_epoch=10):  # Train the model\n",
    "    print(\"Start training...\")\n",
    "    trn_loss_hist = []\n",
    "    trn_acc_hist = []\n",
    "    val_acc_hist = []\n",
    "    model.train()  # Set the model to training mode\n",
    "    for i in range(num_epoch):\n",
    "        running_loss = []\n",
    "        print('-----------------Epoch = %d-----------------' % (i+1))\n",
    "        for batch, label in tqdm(trainloader):\n",
    "            batch = batch.to(device)\n",
    "            label = label.to(device)\n",
    "            optimizer.zero_grad()  # Clear gradients from the previous iteration\n",
    "            # This will call Network.forward() that you implement\n",
    "            pred = model(batch)\n",
    "            loss = criterion(pred, label)  # Calculate the loss\n",
    "            running_loss.append(loss.item())\n",
    "            loss.backward()  # Backprop gradients to all tensors in the network\n",
    "            optimizer.step()  # Update trainable weights\n",
    "        print(\"\\n Epoch {} loss:{}\".format(i+1, np.mean(running_loss)))\n",
    "\n",
    "        # Keep track of training loss, accuracy, and validation loss\n",
    "        trn_loss_hist.append(np.mean(running_loss))\n",
    "        trn_acc_hist.append(evaluate(model, trainloader))\n",
    "        print(\"\\n Evaluate on validation set...\")\n",
    "        val_acc_hist.append(evaluate(model, valloader))\n",
    "    print(\"Done!\")\n",
    "    return trn_loss_hist, trn_acc_hist, val_acc_hist\n",
    "\n",
    "\n",
    "def evaluate(model, loader):  # Evaluate accuracy on validation / test set\n",
    "    model.eval()  # Set the model to evaluation mode\n",
    "    correct = 0\n",
    "    with torch.no_grad():  # Do not calculate grident to speed up computation\n",
    "        for batch, label in tqdm(loader):\n",
    "            batch = batch.to(device)\n",
    "            label = label.to(device)\n",
    "            pred = model(batch)\n",
    "            correct += (torch.argmax(pred, dim=1) == label).sum().item()\n",
    "        acc = correct/len(loader.dataset)\n",
    "        print(\"\\n Evaluation accuracy: {}\".format(acc))\n",
    "        return acc\n",
    "\n",
    "\n",
    "trn_loss_hist, trn_acc_hist, val_acc_hist = train(model, trainloader,\n",
    "                                                  valloader, num_epoch)\n",
    "\n",
    "##############################################################################\n",
    "# TODO: Note down the evaluation accuracy on test set                        #\n",
    "##############################################################################\n",
    "print(\"\\n Evaluate on test set\")\n",
    "evaluate(model, testloader)\n",
    "#5: 64, 1e-4, 0.95, 5: 0.7843\n",
    "#6: 64, 1e-4, 0.98, 5: 0.7851\n",
    "#7: 64, 1e-4, 0.00, 5: 0.8917"
   ]
  },
  {
   "cell_type": "markdown",
   "metadata": {
    "id": "kwDhwaydQR1Q"
   },
   "source": [
    "Once your training is complete, run the cell below to visualize the training and validation accuracies across iterations."
   ]
  },
  {
   "cell_type": "code",
   "execution_count": 9,
   "metadata": {
    "id": "1lYqngdtPQB8"
   },
   "outputs": [
    {
     "data": {
      "image/png": "[encoded data removed]",
      "text/plain": [
       "<Figure size 1000x500 with 1 Axes>"
      ]
     },
     "metadata": {},
     "output_type": "display_data"
    }
   ],
   "source": [
    "##############################################################################\n",
    "# TODO: Submit the accuracy plot                                             #\n",
    "##############################################################################\n",
    "# visualize the training / validation accuracies\n",
    "x = np.arange(num_epoch)\n",
    "# train/val accuracies for MiniVGG\n",
    "plt.figure()\n",
    "plt.plot(x, trn_acc_hist)\n",
    "plt.plot(x, val_acc_hist)\n",
    "plt.legend(['Training', 'Validation'])\n",
    "plt.xticks(x)\n",
    "plt.xlabel('Epoch')\n",
    "plt.ylabel('Accuracy')\n",
    "plt.title('fashion MNIST Classification')\n",
    "plt.gcf().set_size_inches(10, 5)\n",
    "plt.savefig('part1.png', dpi=300)\n",
    "plt.show()"
   ]
  }
 ],
 "metadata": {
  "accelerator": "GPU",
  "colab": {
   "authorship_tag": "ABX9TyPMybiGiTlZDBY4uaeomg3n",
   "collapsed_sections": [],
   "name": "part1.ipynb",
   "provenance": [],
   "toc_visible": true
  },
  "kernelspec": {
   "display_name": "Python 3 (ipykernel)",
   "language": "python",
   "name": "python3"
  },
  "language_info": {
   "codemirror_mode": {
    "name": "ipython",
    "version": 3
   },
   "file_extension": ".py",
   "mimetype": "text/x-python",
   "name": "python",
   "nbconvert_exporter": "python",
   "pygments_lexer": "ipython3",
   "version": "3.10.9"
  },
  "vscode": {
   "interpreter": {
    "hash": "9d34995e9b9aacf7236904ea7ddf7585a36f6be47e873dd30641939c3248d078"
   }
  }
 },
 "nbformat": 4,
 "nbformat_minor": 4
}
